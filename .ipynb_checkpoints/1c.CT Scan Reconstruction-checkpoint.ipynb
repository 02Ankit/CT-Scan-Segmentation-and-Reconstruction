{
 "cells": [
  {
   "cell_type": "code",
   "execution_count": 1,
   "metadata": {
    "id": "iZ_NH60sgl2d"
   },
   "outputs": [],
   "source": [
    "# Importing Necesaary Library\n",
    "import scipy.io\n",
    "import math\n",
    "import numpy as np\n",
    "import sys\n",
    "import timeit\n",
    "\n",
    "import copy\n",
    "import matplotlib.pyplot as plt\n",
    "from sklearn.cluster import KMeans\n",
    "from sklearn.metrics import confusion_matrix\n",
    "\n",
    "from skimage.transform import rotate\n",
    "import scipy.fftpack as fft\n",
    "from skimage.transform import rotate\n",
    "\n",
    "from skimage.transform import radon, rescale, iradon\n",
    "from skimage.metrics import peak_signal_noise_ratio as psnr\n",
    "from skimage.metrics import structural_similarity as ssim"
   ]
  },
  {
   "cell_type": "markdown",
   "metadata": {
    "id": "3EkT6Xm6rDlO"
   },
   "source": [
    "Loading CT Scans"
   ]
  },
  {
   "cell_type": "code",
   "execution_count": 2,
   "metadata": {
    "colab": {
     "base_uri": "https://localhost:8080/"
    },
    "id": "2IQxLAx-g0C7",
    "outputId": "1c1cd6c6-31e4-4479-d906-8c80010d08cf"
   },
   "outputs": [
    {
     "name": "stdout",
     "output_type": "stream",
     "text": [
      "(3554, 512, 512)\n"
     ]
    }
   ],
   "source": [
    "data = scipy.io.loadmat(\"./ctscan_hw1.mat\")\n",
    "temp_ct_scans = data['ctscan']\n",
    "ct_scans = []\n",
    "for i in range(temp_ct_scans.shape[2]):\n",
    "  ct_scans.append(temp_ct_scans[:,:,i])\n",
    "ct_scans = np.array(ct_scans)\n",
    "print(ct_scans.shape)"
   ]
  },
  {
   "cell_type": "markdown",
   "metadata": {
    "id": "Hf5agxO6rHPa"
   },
   "source": [
    "Loading Infection Masks"
   ]
  },
  {
   "cell_type": "code",
   "execution_count": 3,
   "metadata": {
    "colab": {
     "base_uri": "https://localhost:8080/"
    },
    "id": "c9XvAOQjiAaA",
    "outputId": "5a83ed89-787f-403a-8e7c-9598903efc75"
   },
   "outputs": [
    {
     "name": "stdout",
     "output_type": "stream",
     "text": [
      "(3554, 512, 512)\n"
     ]
    }
   ],
   "source": [
    "data = scipy.io.loadmat(\"./infmsk_hw1.mat\")\n",
    "infmask = data['infmsk']\n",
    "infection_masks = []\n",
    "for i in range(infmask.shape[2]):\n",
    "  infection_masks.append(infmask[:,:,i])\n",
    "infection_masks = np.array(infection_masks)\n",
    "print(infection_masks.shape)\n",
    "\n",
    "N = ct_scans.shape[0]"
   ]
  },
  {
   "cell_type": "markdown",
   "metadata": {},
   "source": [
    "# Part B, Functions"
   ]
  },
  {
   "cell_type": "markdown",
   "metadata": {
    "id": "di8XF7ew-tZL"
   },
   "source": [
    "Functions to correct predicted mask, i.e., correct background, infection and healthy region as expected"
   ]
  },
  {
   "cell_type": "code",
   "execution_count": 4,
   "metadata": {
    "id": "wpxQpbjg4zjV"
   },
   "outputs": [],
   "source": [
    "def find_counts(mask):\n",
    "  count_background = np.count_nonzero(mask == 0)\n",
    "  count_infection = np.count_nonzero(mask == 1)\n",
    "  count_healthy = np.count_nonzero(mask == 2)\n",
    "  return np.array([count_background, count_infection, count_healthy])\n",
    "\n",
    "def check_pred_mask(pred_mask):\n",
    "  pred_count_list = find_counts(pred_mask)\n",
    "  original_count_list = np.array([100,10,50])\n",
    "  mapping = dict({})\n",
    "\n",
    "  for i in range(3):\n",
    "    pred_max_idx = np.argmax(pred_count_list)\n",
    "    original_max_idx = np.argmax(original_count_list)\n",
    "    mapping[pred_max_idx] = original_max_idx\n",
    "    pred_count_list[pred_max_idx] = -1\n",
    "    original_count_list[original_max_idx] = -1\n",
    "\n",
    "  corrected_mask = np.empty(shape=(512,512), dtype=int)\n",
    "  for i in range(512):\n",
    "    for j in range(512):\n",
    "      corrected_mask[i][j] = mapping[pred_mask[i][j]]\n",
    "\n",
    "  return corrected_mask"
   ]
  },
  {
   "cell_type": "markdown",
   "metadata": {},
   "source": [
    "Function for printing two sample slices"
   ]
  },
  {
   "cell_type": "code",
   "execution_count": 5,
   "metadata": {},
   "outputs": [],
   "source": [
    "def print_two_sample_slices(pred_masks, ct_scans):\n",
    "  plt.rcParams[\"figure.figsize\"] = (12,12)\n",
    "  i = 99\n",
    "  f, axarr = plt.subplots(1,3)\n",
    "  axarr[0].set_title(\"Expert Annotations\")\n",
    "  axarr[0].imshow(infection_masks[i], cmap='gray')\n",
    "  axarr[1].set_title(\"Predicted Masks\")\n",
    "  axarr[1].imshow(pred_masks[i], cmap='gray')\n",
    "  axarr[2].set_title(\"Reconstructed CT Scans\")\n",
    "  axarr[2].imshow(ct_scans[i], cmap='gray')\n",
    "  f.tight_layout()\n",
    "  plt.show()\n",
    "\n",
    "  i = 69\n",
    "  f, axarr = plt.subplots(1,3)\n",
    "  axarr[0].set_title(\"Expert Annotations\")\n",
    "  axarr[0].imshow(infection_masks[i], cmap='gray')\n",
    "  axarr[1].set_title(\"Predicted Masks\")\n",
    "  axarr[1].imshow(pred_masks[i], cmap='gray')\n",
    "  axarr[2].set_title(\"CT Scans\")\n",
    "  axarr[2].imshow(ct_scans[i], cmap='gray')\n",
    "  f.tight_layout()\n",
    "  plt.show()"
   ]
  },
  {
   "cell_type": "markdown",
   "metadata": {
    "id": "_S5t_dz9CPXp"
   },
   "source": [
    "Using k-means for Image Segmentation"
   ]
  },
  {
   "cell_type": "code",
   "execution_count": 6,
   "metadata": {
    "colab": {
     "base_uri": "https://localhost:8080/"
    },
    "id": "u0w0mJlg1skY",
    "outputId": "5dbf323e-c072-474e-bb4e-1f29de333a9a"
   },
   "outputs": [],
   "source": [
    "def get_predicted_mask(ct_scans):\n",
    "  start = timeit.default_timer()\n",
    "\n",
    "  pred_masks = []\n",
    "  N = len(ct_scans)\n",
    "  for i in range(N):\n",
    "    sys.stdout.write('\\r'+\"Processing Image \"+str(i))\n",
    "    sample = ct_scans[i]\n",
    "    kmeans_obj = KMeans(n_clusters=3, random_state=0)\n",
    "    ct_scan_flattened = sample.flatten().reshape((512*512,1))\n",
    "    clusters = kmeans_obj.fit_predict(ct_scan_flattened)\n",
    "    curr_pred_mask = clusters.reshape((512,512))\n",
    "    curr_pred_mask = check_pred_mask(curr_pred_mask)\n",
    "    pred_masks.append(curr_pred_mask)\n",
    "\n",
    "  pred_masks = np.array(pred_masks)\n",
    "\n",
    "  stop = timeit.default_timer()\n",
    "  print('Time Taken = ', stop - start) \n",
    "  \n",
    "  print_two_sample_slices(pred_masks, ct_scans)\n",
    "  return pred_masks"
   ]
  },
  {
   "cell_type": "markdown",
   "metadata": {
    "id": "kOPi5GpG9P-S"
   },
   "source": [
    "Evaluating the model performance using several evaluation metrics"
   ]
  },
  {
   "cell_type": "code",
   "execution_count": 7,
   "metadata": {},
   "outputs": [],
   "source": [
    "def get_confusion_metric(true_y, pred_y):\n",
    "  true_y = true_y.flatten()\n",
    "  pred_y = pred_y.flatten()\n",
    "  return confusion_matrix(true_y, pred_y,labels=[0,1,2])\n",
    "  \n",
    "def get_req_avg_eval_metrics(infection_masks, pred_masks):\n",
    "  \n",
    "  avg_infection_sensitivity = 0\n",
    "  avg_infection_specificity = 0\n",
    "  avg_infection_accuracy = 0\n",
    "  avg_infection_dice_score = 0\n",
    "  \n",
    "  avg_healthy_sensitivity = 0\n",
    "  avg_healthy_specificity = 0\n",
    "  avg_healthy_accuracy = 0\n",
    "  avg_healthy_dice_score = 0\n",
    "\n",
    "  count_infection_sensitivity = 0               # nan error\n",
    "  count_healthy_sensitivity = 0               # nan error\n",
    "\n",
    "  N = len(pred_masks)\n",
    "  for i in range(N):\n",
    "    \n",
    "    curr_confusion_metric = (get_confusion_metric(infection_masks[i],pred_masks[i])).T\n",
    "    \n",
    "    infection_TP = curr_confusion_metric[1][1]\n",
    "    infection_TN = curr_confusion_metric[0][0] + curr_confusion_metric[2][0] + curr_confusion_metric[0][2] + curr_confusion_metric[2][2]\n",
    "    infection_FP = curr_confusion_metric[1][0] + curr_confusion_metric[1][2] \n",
    "    infection_FN = curr_confusion_metric[0][1] + curr_confusion_metric[2][1]\n",
    "\n",
    "    healthy_TP = curr_confusion_metric[2][2]\n",
    "    healthy_TN = curr_confusion_metric[0][0] + curr_confusion_metric[0][1] + curr_confusion_metric[1][0] + curr_confusion_metric[1][1]\n",
    "    healthy_FP = curr_confusion_metric[2][0] + curr_confusion_metric[2][1] \n",
    "    healthy_FN = curr_confusion_metric[0][2] + curr_confusion_metric[1][2]\n",
    "\n",
    "    # Sensitivity = Recall = TP/(TP+FN)\n",
    "    # Preicision = TP/(TP+FP)\n",
    "    # Specificity = TN/(TN+FP)\n",
    "    # Dice Score = 2.TP / (2.TP + FP + FN)\n",
    "\n",
    "    infection_sensitivity = 0\n",
    "    if((infection_TP+infection_FN)!=0):\n",
    "      count_infection_sensitivity += 1\n",
    "      infection_sensitivity = (infection_TP)/(infection_TP+infection_FN)\n",
    "        \n",
    "    infection_specificity = (infection_TN)/(infection_TN+infection_FP)\n",
    "    infection_accuracy = (infection_TP+infection_TN)/(infection_TP+infection_TN+infection_FP+infection_FN)\n",
    "    infection_dice_score = (2*infection_TP)/(2*infection_TP + infection_FP + infection_FN)\n",
    "\n",
    "    healthy_sensitivity = 0\n",
    "    if((healthy_TP+healthy_FN)!=0):\n",
    "      count_healthy_sensitivity += 1\n",
    "      healthy_sensitivity = (healthy_TP)/(healthy_TP+healthy_FN)\n",
    "    \n",
    "    healthy_specificity = (healthy_TN)/(healthy_TN+healthy_FP)\n",
    "    healthy_accuracy = (healthy_TP+healthy_TN)/(healthy_TP+healthy_TN+healthy_FP+healthy_FN)\n",
    "    healthy_dice_score = (2*healthy_TP)/(2*healthy_TP + healthy_FP + healthy_FN)\n",
    "\n",
    "    avg_infection_sensitivity += infection_sensitivity\n",
    "    avg_infection_specificity += infection_specificity\n",
    "    avg_infection_accuracy += infection_accuracy\n",
    "    avg_infection_dice_score += infection_dice_score\n",
    "\n",
    "    avg_healthy_sensitivity += healthy_sensitivity\n",
    "    avg_healthy_specificity += healthy_specificity\n",
    "    avg_healthy_accuracy += healthy_accuracy\n",
    "    avg_healthy_dice_score += healthy_dice_score\n",
    "\n",
    "  avg_infection_sensitivity = avg_infection_sensitivity/count_infection_sensitivity\n",
    "  avg_infection_specificity = avg_infection_specificity/N\n",
    "  avg_infection_accuracy = avg_infection_accuracy/N\n",
    "  avg_infection_dice_score = avg_infection_dice_score/N\n",
    "  \n",
    "  avg_healthy_sensitivity = 0\n",
    "  if(count_healthy_sensitivity != 0):\n",
    "    avg_healthy_sensitivity = avg_healthy_sensitivity/count_healthy_sensitivity\n",
    "  avg_healthy_specificity = avg_healthy_specificity/N\n",
    "  avg_healthy_accuracy = avg_healthy_accuracy/N\n",
    "  avg_healthy_dice_score = avg_healthy_dice_score/N\n",
    "\n",
    "  return avg_infection_dice_score, avg_infection_sensitivity, avg_infection_specificity, avg_infection_accuracy, avg_healthy_dice_score, avg_healthy_sensitivity, avg_healthy_specificity, avg_healthy_accuracy"
   ]
  },
  {
   "cell_type": "code",
   "execution_count": 8,
   "metadata": {},
   "outputs": [],
   "source": [
    "def find_eval_metrics(infection_masks, pred_masks):\n",
    "  inf_ds, inf_sen, inf_spec, inf_acc, hea_ds, hea_sen, hea_spec, hea_acc = get_req_avg_eval_metrics(infection_masks, pred_masks)\n",
    "  print(\"Average Dice Score for Infection: \", inf_ds)\n",
    "  print(\"Average Sensitivity for Infection: \", inf_sen)\n",
    "  print(\"Average Specificity for Infection: \", inf_spec)\n",
    "  print(\"Average Accuracy for Infection: \", inf_acc)\n",
    "  print()\n",
    "  print(\"Average Dice Score for Healthy: \", hea_ds)\n",
    "  print(\"Average Sensitivity for Healthy: \", hea_sen)\n",
    "  print(\"Average Specificity for Healthy: \", hea_spec)\n",
    "  print(\"Average Accuracy for Healthy: \", hea_acc)"
   ]
  },
  {
   "cell_type": "markdown",
   "metadata": {},
   "source": [
    "# Part C, Reconstruction"
   ]
  },
  {
   "cell_type": "code",
   "execution_count": 9,
   "metadata": {},
   "outputs": [],
   "source": [
    "class reconstruction_sinogram:\n",
    "  def __init__(self, ct_scans):\n",
    "    self.ct_scans = ct_scans\n",
    "    self.sinograms = []\n",
    "    self.reconstructed_ct_scans = []\n",
    "    \n",
    "  def get_sinogram(self, ct_scan):\n",
    "    return radon(ct_scan, circle = False, preserve_range = True)\n",
    "\n",
    "  def ct_scans_to_sinograms(self):\n",
    "    N = len(self.ct_scans)\n",
    "    print(\"CT Scans -> Sinogram\")\n",
    "    for i in range(N):\n",
    "      sys.stdout.write('\\r'+\"Image No. \"+str(i))\n",
    "      self.sinograms.append(self.get_sinogram(self.ct_scans[i]))\n",
    "    print()\n",
    "    \n",
    "  def get_reconstructed_ct_scan(self, sinogram, angle):\n",
    "    sinogram = np.array([sinogram[:,i] for i in range(0,180, angle)])\n",
    "    return iradon(sinogram.T, circle = False, preserve_range = True)\n",
    "\n",
    "  def sinogram_to_ct_scans(self, angle):\n",
    "    N = len(self.ct_scans)\n",
    "    print(\"Sinogram -> CT Scans\")\n",
    "    for i in range(N):\n",
    "      sys.stdout.write('\\r'+\"Image No. \"+str(i))\n",
    "      self.reconstructed_ct_scans.append(self.get_reconstructed_ct_scan(self.sinograms[i],angle))\n",
    "    print()\n",
    "        \n",
    "  def correct_reconstruction(self,temp_infection_masks):\n",
    "    N = len(self.reconstructed_ct_scans)\n",
    "    for i in range(N):\n",
    "      curr_inf_mask = copy.copy(temp_infection_masks[i])\n",
    "      curr_inf_mask[curr_inf_mask == 2] = 1\n",
    "      self.reconstructed_ct_scans[i] = np.multiply(self.reconstructed_ct_scans[i], curr_inf_mask)"
   ]
  },
  {
   "cell_type": "markdown",
   "metadata": {},
   "source": [
    "# 4x Limited Angle Sinogram"
   ]
  },
  {
   "cell_type": "code",
   "execution_count": 10,
   "metadata": {},
   "outputs": [
    {
     "name": "stdout",
     "output_type": "stream",
     "text": [
      "CT Scans -> Sinogram\n",
      "Image No. 19\n",
      "Sinogram -> CT Scans\n",
      "Image No. 19\n"
     ]
    }
   ],
   "source": [
    "reconstruct_4x = reconstruction_sinogram(ct_scans)\n",
    "reconstruct_4x.ct_scans_to_sinograms()\n",
    "reconstruct_4x.sinogram_to_ct_scans(angle = 4)\n",
    "reconstruct_4x.correct_reconstruction(infection_masks)"
   ]
  },
  {
   "cell_type": "markdown",
   "metadata": {},
   "source": [
    "Finding PSNR and SSIM"
   ]
  },
  {
   "cell_type": "code",
   "execution_count": 11,
   "metadata": {},
   "outputs": [
    {
     "name": "stdout",
     "output_type": "stream",
     "text": [
      "Image No. 0"
     ]
    },
    {
     "name": "stderr",
     "output_type": "stream",
     "text": [
      "/tmp/ipykernel_23478/222194702.py:6: UserWarning: Inputs have mismatched dtype.  Setting data_range based on image_true.\n",
      "  avg_psnr_4x += psnr(ct_scans[i],reconstruct_4x.reconstructed_ct_scans[i])\n",
      "/home/ujjawal/anaconda3/lib/python3.9/site-packages/skimage/_shared/utils.py:348: UserWarning: Inputs have mismatched dtype.  Setting data_range based on im1.dtype.\n",
      "  return func(*args, **kwargs)\n"
     ]
    },
    {
     "name": "stdout",
     "output_type": "stream",
     "text": [
      "Image No. 19\n",
      "Average Peak Signal to Noise Ratio for 4x Reconstruction:  0.5107463817302316\n",
      "Average Structute Similarity Index Measure for 4x Reconstruction:  0.0005320098130207916\n"
     ]
    }
   ],
   "source": [
    "N = len(ct_scans)\n",
    "avg_psnr_4x = 0\n",
    "avg_ssim_4x = 0\n",
    "for i in range(N):\n",
    "  sys.stdout.write('\\r'+\"Image No. \"+str(i))\n",
    "  avg_psnr_4x += psnr(ct_scans[i],reconstruct_4x.reconstructed_ct_scans[i])\n",
    "  avg_ssim_4x += ssim(ct_scans[i],reconstruct_4x.reconstructed_ct_scans[i])\n",
    "    \n",
    "avg_psnr_4x = avg_psnr_4x/N\n",
    "avg_ssim_4x = avg_ssim_4x/N\n",
    "\n",
    "print()\n",
    "print(\"Average Peak Signal to Noise Ratio for 4x Reconstruction: \", avg_psnr_4x)\n",
    "print(\"Average Structute Similarity Index Measure for 4x Reconstruction: \", avg_ssim_4x)"
   ]
  },
  {
   "cell_type": "markdown",
   "metadata": {},
   "source": [
    "8x Limited Angle Sinogram"
   ]
  },
  {
   "cell_type": "code",
   "execution_count": 12,
   "metadata": {},
   "outputs": [
    {
     "name": "stdout",
     "output_type": "stream",
     "text": [
      "CT Scans -> Sinogram\n",
      "Image No. 19\n",
      "Sinogram -> CT Scans\n",
      "Image No. 19\n"
     ]
    }
   ],
   "source": [
    "reconstruct_8x = reconstruction_sinogram(ct_scans)\n",
    "reconstruct_8x.ct_scans_to_sinograms()\n",
    "reconstruct_8x.sinogram_to_ct_scans(angle = 8)\n",
    "reconstruct_8x.correct_reconstruction(infection_masks)"
   ]
  },
  {
   "cell_type": "markdown",
   "metadata": {},
   "source": [
    "Finding PSNR and SSIM"
   ]
  },
  {
   "cell_type": "code",
   "execution_count": 13,
   "metadata": {},
   "outputs": [
    {
     "name": "stdout",
     "output_type": "stream",
     "text": [
      "Image No. 12"
     ]
    },
    {
     "name": "stderr",
     "output_type": "stream",
     "text": [
      "/tmp/ipykernel_23478/1743969268.py:6: UserWarning: Inputs have mismatched dtype.  Setting data_range based on image_true.\n",
      "  avg_psnr_8x += psnr(ct_scans[i],reconstruct_8x.reconstructed_ct_scans[i])\n"
     ]
    },
    {
     "name": "stdout",
     "output_type": "stream",
     "text": [
      "Image No. 19Average Peak Signal to Noise Ratio for 8x Reconstruction:  0.5080650670301831\n",
      "Average Structute Similarity Index Measure for 8x Reconstruction:  -0.0018853690230401603\n"
     ]
    }
   ],
   "source": [
    "N = len(ct_scans)\n",
    "avg_psnr_8x = 0\n",
    "avg_ssim_8x = 0\n",
    "for i in range(N):\n",
    "  sys.stdout.write('\\r'+\"Image No. \"+str(i))\n",
    "  avg_psnr_8x += psnr(ct_scans[i],reconstruct_8x.reconstructed_ct_scans[i])\n",
    "  avg_ssim_8x += ssim(ct_scans[i],reconstruct_8x.reconstructed_ct_scans[i])\n",
    "avg_psnr_8x = avg_psnr_8x/N\n",
    "avg_ssim_8x = avg_ssim_8x/N\n",
    "\n",
    "print(\"Average Peak Signal to Noise Ratio for 8x Reconstruction: \", avg_psnr_8x)\n",
    "print(\"Average Structute Similarity Index Measure for 8x Reconstruction: \", avg_ssim_8x)"
   ]
  },
  {
   "cell_type": "markdown",
   "metadata": {},
   "source": [
    "Two samples of reconstructed CT Scan Images, one for 4x and one for 8x"
   ]
  },
  {
   "cell_type": "code",
   "execution_count": 14,
   "metadata": {},
   "outputs": [
    {
     "data": {
      "image/png": "[encoded data removed]",
      "text/plain": [
       "<Figure size 864x864 with 3 Axes>"
      ]
     },
     "metadata": {
      "needs_background": "light"
     },
     "output_type": "display_data"
    }
   ],
   "source": [
    "plt.rcParams[\"figure.figsize\"] = (12,12)\n",
    "i = 19\n",
    "f, axarr = plt.subplots(1,3)\n",
    "axarr[0].set_title(\"4x Reconstruction\")\n",
    "axarr[0].imshow(reconstruct_4x.reconstructed_ct_scans[i], cmap='gray')\n",
    "axarr[1].set_title(\"8x Reconstruction\")\n",
    "axarr[1].imshow(reconstruct_8x.reconstructed_ct_scans[i], cmap='gray')\n",
    "axarr[2].set_title(\"CT Scans\")\n",
    "axarr[2].imshow(ct_scans[i], cmap='gray')\n",
    "f.tight_layout()\n",
    "plt.show()"
   ]
  },
  {
   "cell_type": "markdown",
   "metadata": {},
   "source": [
    "Evaluating Segmentation on 4x and 8x Reconstruction"
   ]
  },
  {
   "cell_type": "code",
   "execution_count": 15,
   "metadata": {},
   "outputs": [
    {
     "name": "stdout",
     "output_type": "stream",
     "text": [
      "Processing Image 19Time Taken =  9.557435536757112\n"
     ]
    },
    {
     "ename": "IndexError",
     "evalue": "index 99 is out of bounds for axis 0 with size 20",
     "output_type": "error",
     "traceback": [
      "\u001b[0;31m---------------------------------------------------------------------------\u001b[0m",
      "\u001b[0;31mIndexError\u001b[0m                                Traceback (most recent call last)",
      "Input \u001b[0;32mIn [15]\u001b[0m, in \u001b[0;36m<cell line: 1>\u001b[0;34m()\u001b[0m\n\u001b[0;32m----> 1\u001b[0m pred_masks_4x \u001b[38;5;241m=\u001b[39m \u001b[43mget_predicted_mask\u001b[49m\u001b[43m(\u001b[49m\u001b[43mreconstruct_4x\u001b[49m\u001b[38;5;241;43m.\u001b[39;49m\u001b[43mreconstructed_ct_scans\u001b[49m\u001b[43m)\u001b[49m\n\u001b[1;32m      2\u001b[0m \u001b[38;5;28mprint\u001b[39m(\u001b[38;5;124m\"\u001b[39m\u001b[38;5;124mEvaluation Metrics for 4x Reconstruction\u001b[39m\u001b[38;5;124m\"\u001b[39m)\n\u001b[1;32m      3\u001b[0m find_eval_metrics(infection_masks, pred_masks_4x)\n",
      "Input \u001b[0;32mIn [6]\u001b[0m, in \u001b[0;36mget_predicted_mask\u001b[0;34m(ct_scans)\u001b[0m\n\u001b[1;32m     18\u001b[0m stop \u001b[38;5;241m=\u001b[39m timeit\u001b[38;5;241m.\u001b[39mdefault_timer()\n\u001b[1;32m     19\u001b[0m \u001b[38;5;28mprint\u001b[39m(\u001b[38;5;124m'\u001b[39m\u001b[38;5;124mTime Taken = \u001b[39m\u001b[38;5;124m'\u001b[39m, stop \u001b[38;5;241m-\u001b[39m start) \n\u001b[0;32m---> 21\u001b[0m \u001b[43mprint_two_sample_slices\u001b[49m\u001b[43m(\u001b[49m\u001b[43mpred_masks\u001b[49m\u001b[43m,\u001b[49m\u001b[43m \u001b[49m\u001b[43mct_scans\u001b[49m\u001b[43m)\u001b[49m\n\u001b[1;32m     22\u001b[0m \u001b[38;5;28;01mreturn\u001b[39;00m pred_masks\n",
      "Input \u001b[0;32mIn [5]\u001b[0m, in \u001b[0;36mprint_two_sample_slices\u001b[0;34m(pred_masks, ct_scans)\u001b[0m\n\u001b[1;32m      6\u001b[0m axarr[\u001b[38;5;241m0\u001b[39m]\u001b[38;5;241m.\u001b[39mimshow(infection_masks[i], cmap\u001b[38;5;241m=\u001b[39m\u001b[38;5;124m'\u001b[39m\u001b[38;5;124mgray\u001b[39m\u001b[38;5;124m'\u001b[39m)\n\u001b[1;32m      7\u001b[0m axarr[\u001b[38;5;241m1\u001b[39m]\u001b[38;5;241m.\u001b[39mset_title(\u001b[38;5;124m\"\u001b[39m\u001b[38;5;124mPredicted Masks\u001b[39m\u001b[38;5;124m\"\u001b[39m)\n\u001b[0;32m----> 8\u001b[0m axarr[\u001b[38;5;241m1\u001b[39m]\u001b[38;5;241m.\u001b[39mimshow(\u001b[43mpred_masks\u001b[49m\u001b[43m[\u001b[49m\u001b[43mi\u001b[49m\u001b[43m]\u001b[49m, cmap\u001b[38;5;241m=\u001b[39m\u001b[38;5;124m'\u001b[39m\u001b[38;5;124mgray\u001b[39m\u001b[38;5;124m'\u001b[39m)\n\u001b[1;32m      9\u001b[0m axarr[\u001b[38;5;241m2\u001b[39m]\u001b[38;5;241m.\u001b[39mset_title(\u001b[38;5;124m\"\u001b[39m\u001b[38;5;124mReconstructed CT Scans\u001b[39m\u001b[38;5;124m\"\u001b[39m)\n\u001b[1;32m     10\u001b[0m axarr[\u001b[38;5;241m2\u001b[39m]\u001b[38;5;241m.\u001b[39mimshow(ct_scans[i], cmap\u001b[38;5;241m=\u001b[39m\u001b[38;5;124m'\u001b[39m\u001b[38;5;124mgray\u001b[39m\u001b[38;5;124m'\u001b[39m)\n",
      "\u001b[0;31mIndexError\u001b[0m: index 99 is out of bounds for axis 0 with size 20"
     ]
    },
    {
     "data": {
      "image/png": "[encoded data removed]",
      "text/plain": [
       "<Figure size 864x864 with 3 Axes>"
      ]
     },
     "metadata": {
      "needs_background": "light"
     },
     "output_type": "display_data"
    }
   ],
   "source": [
    "pred_masks_4x = get_predicted_mask(reconstruct_4x.reconstructed_ct_scans)\n",
    "print(\"Evaluation Metrics for 4x Reconstruction\")\n",
    "find_eval_metrics(infection_masks, pred_masks_4x)\n",
    "\n",
    "print()\n",
    "print()\n",
    "print()\n",
    "\n",
    "pred_masks_8x = get_predicted_mask(reconstruct_8x.reconstructed_ct_scans)\n",
    "print(\"Evaluation Metrics for 8x Reconstruction\")\n",
    "find_eval_metrics(infection_masks, pred_masks_8x)"
   ]
  },
  {
   "cell_type": "markdown",
   "metadata": {},
   "source": [
    "**COMPLETED**"
   ]
  }
 ],
 "metadata": {
  "colab": {
   "collapsed_sections": [],
   "provenance": []
  },
  "kernelspec": {
   "display_name": "Python 3 (ipykernel)",
   "language": "python",
   "name": "python3"
  },
  "language_info": {
   "codemirror_mode": {
    "name": "ipython",
    "version": 3
   },
   "file_extension": ".py",
   "mimetype": "text/x-python",
   "name": "python",
   "nbconvert_exporter": "python",
   "pygments_lexer": "ipython3",
   "version": "3.10.6"
  }
 },
 "nbformat": 4,
 "nbformat_minor": 1
}
